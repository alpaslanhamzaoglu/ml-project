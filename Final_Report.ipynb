{
  "nbformat": 4,
  "nbformat_minor": 0,
  "metadata": {
    "colab": {
      "name": "Final Report",
      "provenance": [],
      "collapsed_sections": [],
      "toc_visible": true
    },
    "kernelspec": {
      "display_name": "Python 3",
      "name": "python3"
    }
  },
  "cells": [
    {
      "cell_type": "markdown",
      "metadata": {
        "id": "tPdlcstH11mU"
      },
      "source": [
        "<h1>Project Title: Netflix Movies and TV Shows Project - Group ID: 3 </h1>\n",
        "\n",
        "<h3>Group Members:</h3>\n",
        "<p>\n",
        "Suzan Kanigur\n",
        "\n",
        "Gönül Zeynep Perek\n",
        "\n",
        "Baran Çimen\n",
        "\n",
        "Göktuğ Çalışkan\n",
        "\n",
        "Alpaslan Hamzaoğlu\n",
        "</p>"
      ]
    },
    {
      "cell_type": "markdown",
      "metadata": {
        "id": "B1iB4MSX3-6L"
      },
      "source": [
        "## Introduction\n",
        "\n",
        "The main goal of this project is to bring the decision process on another level in which can be a guide for an investor in the film industry. \n",
        "\n",
        "A tool will be created in order to predict the director using the information of IMDB scores and release years. This tool can be used by the Movie/TV distributors such as Netflix, Amazon, Exxen etc. to choose which Movie/TV Shows they will be airing on their own streaming services. In the filming process, the relationships between the audience choices and the director is one of the key factors for efficiency. With an ongoing competitive online streaming sector, it is quite important for the investors to satisfy the audiences demands. Therefore, this tool will increase the streaming services' publicity. \n",
        "\n",
        "In order to find a correlation and understanding the data better, detailed exploration between the variables given in the data set are needed. Pie charts and plots have been created in order to understand the data better. A pie chart has been made between the show type counts of TV shows and Movies to see the distribution of users choices. Then, it is followed by the pie chart that shows the ratings of the Netflix Titles. Both calculations have been made in order to specify the main preferences of the Netflix users. Understanding the users tendency will shape the tool directly. Then, a plot has been created to see the growth rate of the content over the years in Netflix platform. It is important to see the leading countries in the film industry to specify a correlation and a valid causation. It has been listed in the top 20 producing countries according to the data set, followed by the top 5 list. Also rating and release years for each show have been inserted to bar charts in the end for a better visualization. \n",
        "\n",
        "By pointing out a correlation, it will be possible to detect the best working directors according to the IMDB scores and the release years of their respective works that they have worked on before. This tool aims to increase the investment potential of the film projects and will affect the industry itself by accelerating the financial process since an investor will be able to view key parameters by this tool within a combination of different perspectives together.\n"
      ]
    },
    {
      "cell_type": "markdown",
      "metadata": {
        "id": "B2omK2BI4KyB"
      },
      "source": [
        "### Problem Definition\n",
        "\n",
        "\n",
        "The main goal of this project is to make the potentials of the projects more visible for a potential investor in the film industry and help them decide with more valid reasons. The end goal of this project to create a tool in which a potential investor can visit anytime. \n",
        "\n",
        "Machine Learning methods will be used in order to create an algorithm which takes IMDB scores and release years from the data as inputs, in which the streamers being a potential investor with an idea, and outputs with the benefits of that option. The output will give the director's name, respectively. \n",
        "\n",
        "The data set have been seperated as %80 for training, %10 for test and %10 to validate the data. An IMDB Score level has been fixed in order to specify a valid score in this problem. The level has been selected as 6,16 for IMDB Score, the scores below that limit have been discarded from the data frame. Another change in the data set has been made by removing the actor names and titles in order to increase the efficiency of the algorithms.\n",
        "\n",
        "All these information will be limited with the data sources that are currently in use for this project. The data will be filtered in detail and explored in many ways to specify each directors work. Each director will be matched with their works in different sections.\n",
        "\n",
        "In the data set, we don't have enough information to work on the problem. In order to have the valid data for the given problem, we had to retrieve IMDB scores of the Movies/TV Shows in the data set. While working on this process, web scraping tools have been used with api keys. \n",
        "\n",
        "\n",
        "Two different machine learning methods have been used in the following sections, as Decision Tree and Random Forest."
      ]
    },
    {
      "cell_type": "markdown",
      "metadata": {
        "id": "ZjWMWVoA4NcV"
      },
      "source": [
        "### Utilized Datasets\n",
        "\n",
        "\n",
        "<p>The most used data is the Netflix movies and TV Shows data set, and the reference link is given at the end. In this project a relationship determined between IMDB scores, release years and directors for that specific variables. It has been found that in director data there exist lots of null datas because the data set just shows the Netflix movie directors, since there is not a data for Netflix TV shows directors. So for the first step, the null values needed to be cleared from the data. The figure of how much null data is in the next cell (Figure 1). Another point is that there is a lacking of the data for ranking or scores of shows, which inhibits us to find the success rates of the shows. In the data set we have 12 different data for Netflix movies and TV shows and these are Unique ID's for every Movie / Tv Show, Identifier - A Movie or TV Show, Title of the Movie / Tv Show, Director of the Movie, Actors involved in the movie / show, Country where the movie / show was produced, Date it was added on Netflix, Actual Release year of the move / show, TV Rating of the movie / show, Total Duration - in minutes or number of seasons, Genere, The summary description. Data has 6172 unique Netflix movies and TV shows (both included). We have made different plots to show the data more precisely. \n",
        "\n",
        "Another data source has been used in order to reach the IMDB ratings of the shows. We used an API to get the IMDB ratings of the movies and TV shows. The API required a key which was free but had a daily usage limit of 1000. We got multiple keys and re-run the code in order to receive the IMDB ratings. The level has been selected as 6,16 for IMDB Score, the scores below that limit have been discarded from the data frame. \n",
        "\n",
        "The only problem is, if the TV show/Movie is added to Netflix in another year than the release year, the API was unable to find the show and filler the rating as “NaN”. Also, if a TV Show/ Film is found in IMBD database but no IMDB score is found, them the IMDB rating is filled with “N/A”.\n",
        "</p>\n",
        "\n",
        "Link for data set: https://www.kaggle.com/shivamb/netflix-shows"
      ]
    },
    {
      "cell_type": "code",
      "metadata": {
        "colab": {
          "base_uri": "https://localhost:8080/"
        },
        "id": "pI31uRk6BcgC",
        "outputId": "ffce370f-24f2-4d8b-d464-53f4c32e2540"
      },
      "source": [
        "from google.colab import drive\r\n",
        "drive.mount(\"./drive\")\r\n",
        "\r\n",
        "path_prefix = \"./drive/My Drive\""
      ],
      "execution_count": null,
      "outputs": [
        {
          "output_type": "stream",
          "text": [
            "Mounted at ./drive\n"
          ],
          "name": "stdout"
        }
      ]
    },
    {
      "cell_type": "code",
      "metadata": {
        "id": "zAw6Lt6qBdPD"
      },
      "source": [
        "import pandas as pd\r\n",
        "import numpy as np\r\n",
        "import matplotlib.pyplot as plt\r\n",
        "from os.path import join\r\n",
        "\r\n",
        "%matplotlib inline"
      ],
      "execution_count": null,
      "outputs": []
    },
    {
      "cell_type": "code",
      "metadata": {
        "id": "RER4gV8YBj4B"
      },
      "source": [
        "from collections import Counter\r\n",
        "import matplotlib.ticker as ticker\r\n",
        "import matplotlib.cm as cm\r\n",
        "import matplotlib as mpl\r\n",
        "from matplotlib.gridspec import GridSpec\r\n",
        "import matplotlib.pyplot as plt"
      ],
      "execution_count": null,
      "outputs": []
    },
    {
      "cell_type": "code",
      "metadata": {
        "id": "x8EfKTRdBhkF"
      },
      "source": [
        "fname = \"netflix_titles.csv\"\r\n",
        "df = pd.read_csv(join(path_prefix, fname))"
      ],
      "execution_count": null,
      "outputs": []
    },
    {
      "cell_type": "code",
      "metadata": {
        "id": "lZvKnLVhBn3R",
        "colab": {
          "base_uri": "https://localhost:8080/"
        },
        "outputId": "262f9d14-3f3a-4c98-cc0d-54491d44eadc"
      },
      "source": [
        "title_type = df.groupby('type').agg('count')\r\n",
        "print(title_type)"
      ],
      "execution_count": null,
      "outputs": [
        {
          "output_type": "stream",
          "text": [
            "         show_id  title  director  ...  duration  listed_in  description\n",
            "type                               ...                                  \n",
            "Movie       4265   4265      4137  ...      4265       4265         4265\n",
            "TV Show     1969   1969       128  ...      1969       1969         1969\n",
            "\n",
            "[2 rows x 11 columns]\n"
          ],
          "name": "stdout"
        }
      ]
    },
    {
      "cell_type": "code",
      "metadata": {
        "id": "5ekCOfhXBUJU"
      },
      "source": [
        "#A pie chart has been made between the show type counts of TV shows and Movies to make the distribution of user's choices visible:"
      ],
      "execution_count": null,
      "outputs": []
    },
    {
      "cell_type": "code",
      "metadata": {
        "id": "v6fP09hSBWHn",
        "colab": {
          "base_uri": "https://localhost:8080/",
          "height": 418
        },
        "outputId": "6cca5656-6c0f-4994-8d44-6ce4a54b592d"
      },
      "source": [
        "label = title_type.show_id.index  #TV Show and Movie\r\n",
        "count = df.type.value_counts()    #TV Show and Movie Counts\r\n",
        "\r\n",
        "\r\n",
        "plt.figure(1, figsize = (30,15)) \r\n",
        "the_grid = GridSpec(2, 2)\r\n",
        "\r\n",
        "cmap = plt.get_cmap('Spectral')\r\n",
        "\r\n",
        "\r\n",
        "plt.subplot(the_grid[0, 1], aspect = 1, title = 'Types of Netflix Titles')\r\n",
        "type_show_ids = plt.pie(count, labels=label, autopct = '%1.1f%%', shadow = True, colors = [cmap(i) for i in np.linspace(0, 7, 9)])\r\n",
        "plt.show()"
      ],
      "execution_count": null,
      "outputs": [
        {
          "output_type": "display_data",
          "data": {
            "image/png": "[encoded data removed]",
            "text/plain": [
              "<Figure size 2160x1080 with 1 Axes>"
            ]
          },
          "metadata": {
            "tags": []
          }
        }
      ]
    },
    {
      "cell_type": "code",
      "metadata": {
        "id": "Hm5_5UMMB-dm"
      },
      "source": [
        "#Another pie chart has been made to show the distribution of the ratings for Netflix Titles:"
      ],
      "execution_count": null,
      "outputs": []
    },
    {
      "cell_type": "code",
      "metadata": {
        "id": "vLgpuBrAB9ES"
      },
      "source": [
        "rating_title = df.groupby('rating').agg('count')\r\n",
        "rating_labels = rating_title.show_id.sort_values().index \r\n",
        "rating_counts = rating_title.show_id.sort_values()"
      ],
      "execution_count": null,
      "outputs": []
    },
    {
      "cell_type": "code",
      "metadata": {
        "id": "57c-Eb9rCM9R",
        "colab": {
          "base_uri": "https://localhost:8080/",
          "height": 541
        },
        "outputId": "21c11c88-727c-4a84-fde9-3ee2173c1124"
      },
      "source": [
        "plt.figure(1, figsize=(30,20))\r\n",
        "grid = GridSpec(2, 2)\r\n",
        "cmap = plt.get_cmap('Spectral')\r\n",
        "plt.subplot(grid[0, 1], aspect=1, title='Ratings of Netflix Titles')\r\n",
        "show_ids = plt.pie(rating_counts, labels=rating_labels, autopct='%1.1f%%', shadow=True, colors=[cmap(i) for i in np.linspace(0, 1, 8)])\r\n",
        "plt.show()"
      ],
      "execution_count": null,
      "outputs": [
        {
          "output_type": "display_data",
          "data": {
            "image/png": "[encoded data removed]",
            "text/plain": [
              "<Figure size 2160x1440 with 1 Axes>"
            ]
          },
          "metadata": {
            "tags": []
          }
        }
      ]
    },
    {
      "cell_type": "code",
      "metadata": {
        "id": "lJ1zCoZdCQNb"
      },
      "source": [
        "def group_lower_ranking_values(column):\r\n",
        "    rating_num = df.groupby(column).agg('count')\r\n",
        "    value = rating_num[lambda x: x.columns[0]].quantile(.75)\r\n",
        "    below_pct = rating_num[lambda x: x.columns[0]].loc[lambda s: s < value].index.values\r\n",
        "    def fix_values(row):\r\n",
        "        if row[column] in below_pct:\r\n",
        "            row[column] = 'Other'\r\n",
        "        return row \r\n",
        "    grouped_rating = df.apply(fix_values, axis=1).groupby(column).agg('count')\r\n",
        "    return grouped_rating"
      ],
      "execution_count": null,
      "outputs": []
    },
    {
      "cell_type": "code",
      "metadata": {
        "id": "9NAtiCD5CSM4"
      },
      "source": [
        "grouped_rating = group_lower_ranking_values('rating')\r\n",
        "label_rating = grouped_rating.show_id.sort_values().index \r\n",
        "count_rating = grouped_rating.show_id.sort_values()"
      ],
      "execution_count": null,
      "outputs": []
    },
    {
      "cell_type": "code",
      "metadata": {
        "id": "_OteSfaRCUop",
        "colab": {
          "base_uri": "https://localhost:8080/",
          "height": 368
        },
        "outputId": "d247a3e4-12e6-445c-f947-89bf7cbe57ae"
      },
      "source": [
        "plt.subplot(the_grid[0, 1], aspect=1, title='Rating of Netflix Titles')\r\n",
        "type_show_ids = plt.pie(rating_counts, labels=rating_labels, autopct='%1.1f%%', shadow=True)#, colors=colors)\r\n",
        "plt.gcf().set_size_inches((25, 13)) \r\n",
        "plt.show()"
      ],
      "execution_count": null,
      "outputs": [
        {
          "output_type": "display_data",
          "data": {
            "image/png": "[encoded data removed]",
            "text/plain": [
              "<Figure size 1800x936 with 1 Axes>"
            ]
          },
          "metadata": {
            "tags": []
          }
        }
      ]
    },
    {
      "cell_type": "markdown",
      "metadata": {
        "id": "ona8ihqWWt40"
      },
      "source": [
        "<h3>Here is the code part of how we get the IMDB ratings from IMDB web sites.</h3>"
      ]
    },
    {
      "cell_type": "code",
      "metadata": {
        "id": "Cu8Km7p6Wun6"
      },
      "source": [
        "df = pd.read_csv(join(path_prefix, fname))\r\n",
        "\r\n",
        "title_list = df.title.T.values.tolist()\r\n",
        "array_for_title = np.array(title_list)\r\n",
        "print(array_for_title.reshape(6234,1))\r\n",
        "\r\n",
        "print(\" \")\r\n",
        "year_list = df.release_year.T.values.tolist()\r\n",
        "array_for_year = np.array(year_list)\r\n",
        "print(array_for_year.reshape(6234,1))\r\n",
        "\r\n",
        "import requests\r\n",
        "endpoint = \"http://www.omdbapi.com/?apikey=8e22b2aa&t=Norm%20of%20the%20North:%20King%20Sized%20Adventure&y=2019\"\r\n",
        "res = requests.get(endpoint)\r\n",
        "print(res.json())\r\n",
        "\r\n",
        "k = 0\r\n",
        "for i in range( len(array_for_title)):\r\n",
        "  show = array_for_title[i]\r\n",
        "  year = array_for_year[i]\r\n",
        "  key = \"7055d37f\"\r\n",
        "  endpoint = \"http://www.omdbapi.com/?apikey={}&t={}&y={}\".format(key, show, year)\r\n",
        "  res = requests.get(endpoint)\r\n",
        "  # get the imdb rating from retrieved json object\r\n",
        "  try:\r\n",
        "    df[\"imdbRating\"][i] = res.json()[\"imdbRating\"]\r\n",
        "    #rows.append({\"imdbRating\": res.json()[\"imdbRating\"]})\r\n",
        "  except:\r\n",
        "    df[\"imdbRating\"][i] = \"NaN\"\r\n",
        "    #rows.append({\"imdbRating\": \"NaN\"})\r\n",
        "  k+=1\r\n",
        "  if k == 900:\r\n",
        "    break\r\n",
        "\r\n",
        "print(df)\r\n",
        "compression_opts = dict(method='zip',\r\n",
        "                        archive_name='out_final.csv')  \r\n",
        "df.to_csv('out_finalllll.zip', index=False,\r\n",
        "          compression=compression_opts)  \r\n",
        "!cp out_finalllll.zip \"drive/My Drive/\""
      ],
      "execution_count": null,
      "outputs": []
    },
    {
      "cell_type": "markdown",
      "metadata": {
        "id": "ict00io34o_x"
      },
      "source": [
        "## Data Exploration\n"
      ]
    },
    {
      "cell_type": "markdown",
      "metadata": {
        "id": "Dbs10tsv4ElR"
      },
      "source": [
        "<p>\r\n",
        "In the dataset, which we obtained from kaggle.com, it can be seen that there are 12 different data for each movie / TV Show. The data consists of:\r\n",
        "\r\n",
        "\r\n",
        "1.   Show ID (Unique ID for every Movie / Tv Show)\r\n",
        "2.   Type (Movie / TV Show)\r\n",
        "3.   Title\r\n",
        "4.   Director\r\n",
        "5.   Cast\r\n",
        "6.   Country  (Country where the movie / show was produced)\r\n",
        "7.   Date Added (Date it was added on Netflix)\r\n",
        "8.   Release Year (Actual Release year of the movie / show)\r\n",
        "9.   Rating (TV Rating of the movie / show )\r\n",
        "10.  Duration (Total Duration - in minutes or number of seasons)\r\n",
        "11.  Listed in (Genre of the movie / show)\r\n",
        "12.  Description\r\n",
        "\r\n",
        "Best relationship across this dataset that can be observed comes from the relationship between Rating - Listed in as particular genres can only be observed in (nearly) specific TV ratings. To give a few examples, \"Children & Family movies\" and \"Kids Movies\" exists only in the following ratings: TV-PG, TV-Y7, TV-Y7-FV and TV-G.\r\n",
        "\r\n",
        "There is also the relationship between \"Country\" and \"Listed in\" as the genre \"Spanish Language TV Shows\" can be found to be produced in Spanish speaking countries such as Spain, Colombia, Mexico and United States.\r\n",
        "\r\n",
        "</p>"
      ]
    },
    {
      "cell_type": "markdown",
      "metadata": {
        "id": "kTg_2iyTiM0Q"
      },
      "source": [
        "It has been inserted to a graph which demonstrates the content growth over the years. It is important for an investor to see the lack of content so that they can make a more reasonable investment according to the type of show. "
      ]
    },
    {
      "cell_type": "code",
      "metadata": {
        "id": "1VExbsi42Ewj"
      },
      "source": [
        "#Getting the counts for both Movie and TV Show:\r\n",
        "df_c = df.fillna('NULL')\r\n",
        "df_c['year_added'] = df_c['date_added'].apply(lambda x: x.split(',')[-1])\r\n",
        "\r\n",
        "# We didn't want to include 2020 since the year just started not too long so it wont give a \r\n",
        "# a good insight of the year.\r\n",
        "df_c['year_added'] = df_c['year_added'].apply(lambda x : x if x != 'NULL' else '2020')\r\n",
        "df_c['year_added'] = df_c['year_added'].apply(int)\r\n",
        "\r\n",
        "year_data = df_c['year_added'].value_counts().sort_index().loc[:2019]\r\n",
        "type_data = df_c.groupby('year_added')['type'].value_counts().unstack().fillna(0).loc[:2019]"
      ],
      "execution_count": null,
      "outputs": []
    },
    {
      "cell_type": "code",
      "metadata": {
        "id": "XNQCz5tiClft"
      },
      "source": [
        "#We have checked the trend of growth over the years:"
      ],
      "execution_count": null,
      "outputs": []
    },
    {
      "cell_type": "code",
      "metadata": {
        "id": "6gUxqfZNE9Wi",
        "colab": {
          "base_uri": "https://localhost:8080/",
          "height": 358
        },
        "outputId": "be9a3c84-a7d9-49e4-ce4f-dbcd96a59f34"
      },
      "source": [
        "fig, ax = plt.subplots(1,1, figsize=(10,5))\r\n",
        "\r\n",
        "ax.plot(year_data.index, year_data, color = 'green', linewidth=3, label='Total')\r\n",
        "ax.plot(type_data.index, type_data['Movie'], color='salmon', linewidth=3, label='Movie')\r\n",
        "ax.plot(type_data.index, type_data['TV Show'], color='yellow', linewidth=3, label='TV Show')\r\n",
        "\r\n",
        "ax.yaxis.set_tick_params(labelsize=10)\r\n",
        "ax.xaxis.set_tick_params(labelsize=10)\r\n",
        "ax.set_title('Content Growth Over The Years', fontsize=20, fontweight='bold')\r\n",
        "plt.legend(loc='upper left', fontsize=10)"
      ],
      "execution_count": null,
      "outputs": [
        {
          "output_type": "execute_result",
          "data": {
            "text/plain": [
              "<matplotlib.legend.Legend at 0x7f84010c97b8>"
            ]
          },
          "metadata": {
            "tags": []
          },
          "execution_count": 29
        },
        {
          "output_type": "display_data",
          "data": {
            "image/png": "[encoded data removed]",
            "text/plain": [
              "<Figure size 720x360 with 1 Axes>"
            ]
          },
          "metadata": {
            "tags": [],
            "needs_background": "light"
          }
        }
      ]
    },
    {
      "cell_type": "markdown",
      "metadata": {
        "id": "TNAmq1japFu7"
      },
      "source": [
        "The producing countries are listed in order to specify the leading countries in the film industry. It will be useful for us to detect the most experienced project by linking them to their locations."
      ]
    },
    {
      "cell_type": "code",
      "metadata": {
        "id": "MiCqfhNyE_X_"
      },
      "source": [
        "from collections import Counter\r\n",
        "# Split the column 'countries' and store them in countries as List\r\n",
        "countries = ','.join(df_c['country']).replace(' ,',',').replace(', ',',').split(',')\r\n",
        "# Take the countries List and count them with the Counter as Series\r\n",
        "count_country = pd.Series(dict(Counter(countries))).sort_values(ascending=False)\r\n",
        "count_country.drop(['NULL'], axis=0, inplace=True) #Drop NULL s\r\n",
        "\r\n",
        "total = sum(count_country)\r\n",
        "top_20 = sum(count_country[:20])\r\n",
        "top20Countries = count_country[:20] #getting data"
      ],
      "execution_count": null,
      "outputs": []
    },
    {
      "cell_type": "code",
      "metadata": {
        "id": "-b94I2RlFByA"
      },
      "source": [
        "#Also the top 20 producing countries are listed below:"
      ],
      "execution_count": null,
      "outputs": []
    },
    {
      "cell_type": "code",
      "metadata": {
        "id": "Ug7RV9Y-FGbT",
        "colab": {
          "base_uri": "https://localhost:8080/",
          "height": 517
        },
        "outputId": "4dce28c6-873d-493c-a228-08e658e722c0"
      },
      "source": [
        "fig, ax = plt.subplots(1,1, figsize=(18, 8))\r\n",
        "ax.barh(top20Countries.index, top20Countries)\r\n",
        "ax.set_title('Top 20 Producing Countries', fontsize=25)\r\n",
        "ax.yaxis.set_tick_params(labelsize=15)\r\n",
        "ax.xaxis.set_tick_params(labelsize=20)\r\n",
        "ax.invert_yaxis()"
      ],
      "execution_count": null,
      "outputs": [
        {
          "output_type": "display_data",
          "data": {
            "image/png": "[encoded data removed]",
            "text/plain": [
              "<Figure size 1296x576 with 1 Axes>"
            ]
          },
          "metadata": {
            "tags": [],
            "needs_background": "light"
          }
        }
      ]
    },
    {
      "cell_type": "code",
      "metadata": {
        "id": "C_SCN4AbFJph"
      },
      "source": [
        "#Then the top 5 are listed below:"
      ],
      "execution_count": null,
      "outputs": []
    },
    {
      "cell_type": "code",
      "metadata": {
        "id": "fBtuYQENFJLE",
        "colab": {
          "base_uri": "https://localhost:8080/",
          "height": 336
        },
        "outputId": "47c7e85f-5818-421d-cedd-5d9911d331d2"
      },
      "source": [
        "top5countries = count_country[:5]\r\n",
        "\r\n",
        "fig, ax = plt.subplots(1,1,figsize=(10,5))\r\n",
        "\r\n",
        "ax.barh(top5countries.index, top5countries)\r\n",
        "ax.invert_yaxis()\r\n",
        "ax.set_title(\"Top 5 Countries\", fontsize=20)\r\n",
        "ax.yaxis.set_tick_params(labelsize=10)\r\n",
        "ax.xaxis.set_tick_params(labelsize=5)"
      ],
      "execution_count": null,
      "outputs": [
        {
          "output_type": "display_data",
          "data": {
            "image/png": "[encoded data removed]",
            "text/plain": [
              "<Figure size 720x360 with 1 Axes>"
            ]
          },
          "metadata": {
            "tags": [],
            "needs_background": "light"
          }
        }
      ]
    },
    {
      "cell_type": "markdown",
      "metadata": {
        "id": "PBtHgIYOqQxt"
      },
      "source": [
        "Bar charts are created in order to see the ratings according to the show types. It is important to understand the data to create a tool which aims to improve the content and the sector itself."
      ]
    },
    {
      "cell_type": "code",
      "metadata": {
        "id": "INQqT8jbFOJi"
      },
      "source": [
        "#Bar charts for ratings to increase the visuality:"
      ],
      "execution_count": null,
      "outputs": []
    },
    {
      "cell_type": "code",
      "metadata": {
        "id": "ZL-yVFJUFQV9",
        "colab": {
          "base_uri": "https://localhost:8080/",
          "height": 557
        },
        "outputId": "6696daec-7c38-4c81-fd43-5230464c8068"
      },
      "source": [
        "import seaborn as sns\r\n",
        "sns.set()\r\n",
        "rating = df['rating']\r\n",
        "plt.figure(figsize = (12,9))\r\n",
        "sns.countplot(x=\"rating\",data = df,order=rating.value_counts().index[0:14])\r\n",
        "plt.savefig('rating_fig.png')"
      ],
      "execution_count": null,
      "outputs": [
        {
          "output_type": "display_data",
          "data": {
            "image/png": "[encoded data removed]",
            "text/plain": [
              "<Figure size 864x648 with 1 Axes>"
            ]
          },
          "metadata": {
            "tags": []
          }
        }
      ]
    },
    {
      "cell_type": "code",
      "metadata": {
        "id": "KG1MRxgeFShE"
      },
      "source": [
        "#Bar charts for release years are created to see the most productive year in the data set."
      ],
      "execution_count": null,
      "outputs": []
    },
    {
      "cell_type": "code",
      "metadata": {
        "id": "DHp0dV3JFVCe",
        "colab": {
          "base_uri": "https://localhost:8080/",
          "height": 557
        },
        "outputId": "f2982a02-01fe-43c4-cd1c-390b093da798"
      },
      "source": [
        "plt.figure(figsize=(12,9))\r\n",
        "sns.countplot(x=\"release_year\",data=df,order = df['release_year'].value_counts().index[0:14])\r\n",
        "plt.savefig('release_year_fig.png')"
      ],
      "execution_count": null,
      "outputs": [
        {
          "output_type": "display_data",
          "data": {
            "image/png": "[encoded data removed]",
            "text/plain": [
              "<Figure size 864x648 with 1 Axes>"
            ]
          },
          "metadata": {
            "tags": []
          }
        }
      ]
    },
    {
      "cell_type": "markdown",
      "metadata": {
        "id": "gWoY8F-v4ZU0"
      },
      "source": [
        "## Machine Learning Models\n"
      ]
    },
    {
      "cell_type": "markdown",
      "metadata": {
        "id": "a1m8RWkFT_Vi"
      },
      "source": [
        "There are two machine learning models that are used in our algorithm. The first model that has been used is Decision Trees. It has been decided that this model can be useful for our problem since there are different parameteres to perform and analize between each other. It has been focused to use different variables as year, IMDB scores, directors and actors for the implementation of machine learning models. "
      ]
    },
    {
      "cell_type": "markdown",
      "metadata": {
        "id": "7fFh8sOT7q7x"
      },
      "source": [
        "Second method that we used is the Random Forest, which will help us understand the prediction between the show's IMDB ratings and the release years. The algorithm mainly aims to predict the director's name according to the given IMDB Scores and release years. Since actor names and titles have been removed before processing the algorithm, only important level can be stated as the IMDB score threshold which is 6,16. \r\n",
        "\r\n",
        "The data have been seperated accordingly, %80 for train data, %10 for test data and %10 for validation. \r\n",
        "\r\n",
        "Accuracy scores have been checked with respect to the same data set in order to find the difference. \r\n",
        "\r\n",
        "Best parameters have been determined via Grid Search CV for Random Forest implementation.\r\n"
      ]
    },
    {
      "cell_type": "markdown",
      "metadata": {
        "id": "67QXh8uI4c9V"
      },
      "source": [
        "### Implementation\n",
        "\n"
      ]
    },
    {
      "cell_type": "markdown",
      "metadata": {
        "id": "Mm7hoM3UYZUz"
      },
      "source": [
        "<h4>\r\n",
        "Here is the first implemention of machine learning model of decision trees. \r\n",
        "</h4>"
      ]
    },
    {
      "cell_type": "code",
      "metadata": {
        "id": "CYTTkJ4dVMjZ"
      },
      "source": [
        "fname = \"out_final.csv\"\r\n",
        "df = pd.read_csv(join(path_prefix, fname))\r\n",
        "df.replace(\"NaN\", np.nan)\r\n",
        "df.replace(\"N/A\", np.nan)\r\n",
        "df = df.dropna()\r\n",
        "\r\n",
        "df10 = pd.DataFrame(columns=['title', 'director', 'actor', 'IMDBscore', 'year'])\r\n",
        "\r\n",
        "for i in df.index:\r\n",
        "  list_a = []\r\n",
        "  if ',' in df.loc[i, 'cast']:\r\n",
        "    list_a = df.loc[i, 'cast'].split(', ')\r\n",
        "  else:\r\n",
        "    list_a.append(df.loc[i, 'cast'])\r\n",
        "  list_d = []\r\n",
        "  if ',' in df.loc[i, 'director']:\r\n",
        "    list_d = df.loc[i, 'director'].split(', ')\r\n",
        "  else:\r\n",
        "    list_d.append(df.loc[i, 'director'])\r\n",
        "  for k in range(len(list_a)):\r\n",
        "    for l in range(len(list_d)):\r\n",
        "      df10.loc[len(df10.index)] = [df.loc[i, 'title'], list_d[l], list_a[k], df.loc[i, 'imdbRating'], df.loc[i, 'release_year']]   \r\n",
        "\r\n",
        "df11 = df10\r\n",
        "for i in df11.index:\r\n",
        "  if df11.loc[i, 'IMDBscore'] > 6.16:\r\n",
        "    df11.loc[i, 'rate'] = '1'\r\n",
        "  else:\r\n",
        "    df11.loc[i, 'rate'] = '0'"
      ],
      "execution_count": null,
      "outputs": []
    },
    {
      "cell_type": "code",
      "metadata": {
        "id": "1UUn25Qdj6Wl"
      },
      "source": [
        "df11['dir-act'] = df11['director'] + ' - ' + df11['actor']"
      ],
      "execution_count": null,
      "outputs": []
    },
    {
      "cell_type": "code",
      "metadata": {
        "id": "SdYwouOht5Dt"
      },
      "source": [
        "for i in df11.index:\r\n",
        "  if df11.loc[i, 'IMDBscore'] > 6.16:\r\n",
        "    df11.loc[i, 'rate'] = 1\r\n",
        "  else:\r\n",
        "    df11.loc[i, 'rate'] = 0"
      ],
      "execution_count": null,
      "outputs": []
    },
    {
      "cell_type": "code",
      "metadata": {
        "id": "ErTYb_2Duad4"
      },
      "source": [
        "df121 = pd.DataFrame(columns=['title', 'director', 'actor', 'IMDBscore', 'year', 'rate', 'dir-act' ])\r\n",
        "\r\n",
        "idx = 0\r\n",
        "for i in df11.index:\r\n",
        "  if df11.loc[i, 'rate'] == 1:\r\n",
        "    df121.loc[idx] = df11.loc[i]\r\n",
        "    idx+=1"
      ],
      "execution_count": null,
      "outputs": []
    },
    {
      "cell_type": "code",
      "metadata": {
        "colab": {
          "base_uri": "https://localhost:8080/"
        },
        "id": "Gq94w9VZqJWh",
        "outputId": "72e7e675-5c85-4a1f-8b1e-4446f8d29533"
      },
      "source": [
        "from sklearn.model_selection import train_test_split\r\n",
        "from sklearn.tree import DecisionTreeClassifier\r\n",
        "from sklearn.metrics import accuracy_score\r\n",
        "from sklearn.model_selection import cross_val_score\r\n",
        "from sklearn.preprocessing import OneHotEncoder\r\n",
        "from sklearn.ensemble import RandomForestClassifier\r\n",
        "from sklearn.tree import export_text\r\n",
        "\r\n",
        "df101 = df121.drop(columns=['title', 'actor', 'dir-act'])\r\n",
        "df101 = df101.iloc[:1600]\r\n",
        "\r\n",
        "X = df101.drop(columns=[\"director\"])\r\n",
        "y = df101[\"director\"]\r\n",
        "\r\n",
        "X_train, X_remaining, y_train, y_remaining = train_test_split(X, y, random_state=1, test_size=0.20)\r\n",
        "X_val, X_test, y_val, y_test = train_test_split(X_remaining, y_remaining, random_state=1, test_size=0.50)\r\n",
        "\r\n",
        "model = DecisionTreeClassifier(criterion=\"entropy\")\r\n",
        "model.fit(X_train, y_train)\r\n",
        "\r\n",
        "print(\"\\n\", export_text(model, feature_names=list(X.columns)))"
      ],
      "execution_count": null,
      "outputs": [
        {
          "output_type": "stream",
          "text": [
            "\n",
            " |--- IMDBscore <= 6.95\n",
            "|   |--- year <= 2015.50\n",
            "|   |   |--- IMDBscore <= 6.65\n",
            "|   |   |   |--- year <= 2007.50\n",
            "|   |   |   |   |--- IMDBscore <= 6.45\n",
            "|   |   |   |   |   |--- year <= 2001.00\n",
            "|   |   |   |   |   |   |--- year <= 1995.50\n",
            "|   |   |   |   |   |   |   |--- class: Curtis Hanson\n",
            "|   |   |   |   |   |   |--- year >  1995.50\n",
            "|   |   |   |   |   |   |   |--- class: Phillip Noyce\n",
            "|   |   |   |   |   |--- year >  2001.00\n",
            "|   |   |   |   |   |   |--- year <= 2005.50\n",
            "|   |   |   |   |   |   |   |--- class: Roger Kumble\n",
            "|   |   |   |   |   |   |--- year >  2005.50\n",
            "|   |   |   |   |   |   |   |--- class: Wilson Yip\n",
            "|   |   |   |   |--- IMDBscore >  6.45\n",
            "|   |   |   |   |   |--- year <= 2002.50\n",
            "|   |   |   |   |   |   |--- year <= 1991.50\n",
            "|   |   |   |   |   |   |   |--- class: Rajiv Mehra\n",
            "|   |   |   |   |   |   |--- year >  1991.50\n",
            "|   |   |   |   |   |   |   |--- class: Rob LaDuca\n",
            "|   |   |   |   |   |--- year >  2002.50\n",
            "|   |   |   |   |   |   |--- year <= 2005.50\n",
            "|   |   |   |   |   |   |   |--- class: Hirotsugu Kawasaki\n",
            "|   |   |   |   |   |   |--- year >  2005.50\n",
            "|   |   |   |   |   |   |   |--- class: Toshiyuki Tsuru\n",
            "|   |   |   |--- year >  2007.50\n",
            "|   |   |   |   |--- year <= 2013.50\n",
            "|   |   |   |   |   |--- year <= 2012.50\n",
            "|   |   |   |   |   |   |--- year <= 2010.00\n",
            "|   |   |   |   |   |   |   |--- class: Tony Scott\n",
            "|   |   |   |   |   |   |--- year >  2010.00\n",
            "|   |   |   |   |   |   |   |--- IMDBscore <= 6.45\n",
            "|   |   |   |   |   |   |   |   |--- IMDBscore <= 6.35\n",
            "|   |   |   |   |   |   |   |   |   |--- class: Sopon Sukdapisit\n",
            "|   |   |   |   |   |   |   |   |--- IMDBscore >  6.35\n",
            "|   |   |   |   |   |   |   |   |   |--- class: Dan Forrer\n",
            "|   |   |   |   |   |   |   |--- IMDBscore >  6.45\n",
            "|   |   |   |   |   |   |   |   |--- class: Ken Kwapis\n",
            "|   |   |   |   |   |--- year >  2012.50\n",
            "|   |   |   |   |   |   |--- IMDBscore <= 6.50\n",
            "|   |   |   |   |   |   |   |--- class: David Soren\n",
            "|   |   |   |   |   |   |--- IMDBscore >  6.50\n",
            "|   |   |   |   |   |   |   |--- class: Wong Kar Wai\n",
            "|   |   |   |   |--- year >  2013.50\n",
            "|   |   |   |   |   |--- IMDBscore <= 6.35\n",
            "|   |   |   |   |   |   |--- IMDBscore <= 6.25\n",
            "|   |   |   |   |   |   |   |--- year <= 2014.50\n",
            "|   |   |   |   |   |   |   |   |--- class: John Erick Dowdle\n",
            "|   |   |   |   |   |   |   |--- year >  2014.50\n",
            "|   |   |   |   |   |   |   |   |--- class: Nabil Ayouch\n",
            "|   |   |   |   |   |   |--- IMDBscore >  6.25\n",
            "|   |   |   |   |   |   |   |--- class: Vivek Wagh\n",
            "|   |   |   |   |   |--- IMDBscore >  6.35\n",
            "|   |   |   |   |   |   |--- IMDBscore <= 6.55\n",
            "|   |   |   |   |   |   |   |--- IMDBscore <= 6.45\n",
            "|   |   |   |   |   |   |   |   |--- class: Sean Cisterna\n",
            "|   |   |   |   |   |   |   |--- IMDBscore >  6.45\n",
            "|   |   |   |   |   |   |   |   |--- class: William Lau\n",
            "|   |   |   |   |   |   |--- IMDBscore >  6.55\n",
            "|   |   |   |   |   |   |   |--- class: Ozan Açıktan\n",
            "|   |   |--- IMDBscore >  6.65\n",
            "|   |   |   |--- IMDBscore <= 6.75\n",
            "|   |   |   |   |--- year <= 2008.50\n",
            "|   |   |   |   |   |--- year <= 2006.00\n",
            "|   |   |   |   |   |   |--- year <= 1995.00\n",
            "|   |   |   |   |   |   |   |--- class: Spike Lee\n",
            "|   |   |   |   |   |   |--- year >  1995.00\n",
            "|   |   |   |   |   |   |   |--- class: Tensai Okamura\n",
            "|   |   |   |   |   |--- year >  2006.00\n",
            "|   |   |   |   |   |   |--- class: Jonathan Demme\n",
            "|   |   |   |   |--- year >  2008.50\n",
            "|   |   |   |   |   |--- year <= 2011.00\n",
            "|   |   |   |   |   |   |--- class: Banjong Pisanthanakun\n",
            "|   |   |   |   |   |--- year >  2011.00\n",
            "|   |   |   |   |   |   |--- year <= 2014.00\n",
            "|   |   |   |   |   |   |   |--- class: Jay Chapman\n",
            "|   |   |   |   |   |   |--- year >  2014.00\n",
            "|   |   |   |   |   |   |   |--- class: Brett Haley\n",
            "|   |   |   |--- IMDBscore >  6.75\n",
            "|   |   |   |   |--- IMDBscore <= 6.85\n",
            "|   |   |   |   |   |--- year <= 2014.50\n",
            "|   |   |   |   |   |   |--- year <= 2011.50\n",
            "|   |   |   |   |   |   |   |--- year <= 2007.50\n",
            "|   |   |   |   |   |   |   |   |--- class: Alejandro Agresti\n",
            "|   |   |   |   |   |   |   |--- year >  2007.50\n",
            "|   |   |   |   |   |   |   |   |--- class: Deepti Naval\n",
            "|   |   |   |   |   |   |--- year >  2011.50\n",
            "|   |   |   |   |   |   |   |--- class: Brad Anderson\n",
            "|   |   |   |   |   |--- year >  2014.50\n",
            "|   |   |   |   |   |   |--- class: Ben Palmer\n",
            "|   |   |   |   |--- IMDBscore >  6.85\n",
            "|   |   |   |   |   |--- year <= 1986.00\n",
            "|   |   |   |   |   |   |--- year <= 1977.50\n",
            "|   |   |   |   |   |   |   |--- class: Shammi Kapoor\n",
            "|   |   |   |   |   |   |--- year >  1977.50\n",
            "|   |   |   |   |   |   |   |--- class: Ivan Reitman\n",
            "|   |   |   |   |   |--- year >  1986.00\n",
            "|   |   |   |   |   |   |--- year <= 2003.00\n",
            "|   |   |   |   |   |   |   |--- class: Alfonso Cuarón\n",
            "|   |   |   |   |   |   |--- year >  2003.00\n",
            "|   |   |   |   |   |   |   |--- class: Robert Eggers\n",
            "|   |--- year >  2015.50\n",
            "|   |   |--- IMDBscore <= 6.45\n",
            "|   |   |   |--- year <= 2017.50\n",
            "|   |   |   |   |--- IMDBscore <= 6.35\n",
            "|   |   |   |   |   |--- class: Karen Moncrieff\n",
            "|   |   |   |   |--- IMDBscore >  6.35\n",
            "|   |   |   |   |   |--- year <= 2016.50\n",
            "|   |   |   |   |   |   |--- class: Ben Wheatley\n",
            "|   |   |   |   |   |--- year >  2016.50\n",
            "|   |   |   |   |   |   |--- class: Jeremy Rush\n",
            "|   |   |   |--- year >  2017.50\n",
            "|   |   |   |   |--- IMDBscore <= 6.25\n",
            "|   |   |   |   |   |--- year <= 2018.50\n",
            "|   |   |   |   |   |   |--- class: Nicole Holofcener\n",
            "|   |   |   |   |   |--- year >  2018.50\n",
            "|   |   |   |   |   |   |--- class: Steve Ball\n",
            "|   |   |   |   |--- IMDBscore >  6.25\n",
            "|   |   |   |   |   |--- IMDBscore <= 6.35\n",
            "|   |   |   |   |   |   |--- year <= 2018.50\n",
            "|   |   |   |   |   |   |   |--- class: Dani de la Torre\n",
            "|   |   |   |   |   |   |--- year >  2018.50\n",
            "|   |   |   |   |   |   |   |--- class: Le Van Kiet\n",
            "|   |   |   |   |   |--- IMDBscore >  6.35\n",
            "|   |   |   |   |   |   |--- class: Aleksey German\n",
            "|   |   |--- IMDBscore >  6.45\n",
            "|   |   |   |--- IMDBscore <= 6.65\n",
            "|   |   |   |   |--- year <= 2017.50\n",
            "|   |   |   |   |   |--- year <= 2016.50\n",
            "|   |   |   |   |   |   |--- class: Kunle Afolayan\n",
            "|   |   |   |   |   |--- year >  2016.50\n",
            "|   |   |   |   |   |   |--- IMDBscore <= 6.55\n",
            "|   |   |   |   |   |   |   |--- class: Olivier Marchal\n",
            "|   |   |   |   |   |   |--- IMDBscore >  6.55\n",
            "|   |   |   |   |   |   |   |--- class: Louis J. Horvitz\n",
            "|   |   |   |   |--- year >  2017.50\n",
            "|   |   |   |   |   |--- IMDBscore <= 6.55\n",
            "|   |   |   |   |   |   |--- year <= 2018.50\n",
            "|   |   |   |   |   |   |   |--- class: Han Yan\n",
            "|   |   |   |   |   |   |--- year >  2018.50\n",
            "|   |   |   |   |   |   |   |--- class: Kunle Afolayan\n",
            "|   |   |   |   |   |--- IMDBscore >  6.55\n",
            "|   |   |   |   |   |   |--- class: Ariel Vromen\n",
            "|   |   |   |--- IMDBscore >  6.65\n",
            "|   |   |   |   |--- year <= 2016.50\n",
            "|   |   |   |   |   |--- IMDBscore <= 6.85\n",
            "|   |   |   |   |   |   |--- IMDBscore <= 6.75\n",
            "|   |   |   |   |   |   |   |--- class: Chi Fat Chan\n",
            "|   |   |   |   |   |   |--- IMDBscore >  6.75\n",
            "|   |   |   |   |   |   |   |--- class: Eric Summer\n",
            "|   |   |   |   |   |--- IMDBscore >  6.85\n",
            "|   |   |   |   |   |   |--- class: Feng Xiaogang\n",
            "|   |   |   |   |--- year >  2016.50\n",
            "|   |   |   |   |   |--- year <= 2017.50\n",
            "|   |   |   |   |   |   |--- IMDBscore <= 6.80\n",
            "|   |   |   |   |   |   |   |--- class: Ben Wallis\n",
            "|   |   |   |   |   |   |--- IMDBscore >  6.80\n",
            "|   |   |   |   |   |   |   |--- class: Ritesh Batra\n",
            "|   |   |   |   |   |--- year >  2017.50\n",
            "|   |   |   |   |   |   |--- year <= 2018.50\n",
            "|   |   |   |   |   |   |   |--- IMDBscore <= 6.80\n",
            "|   |   |   |   |   |   |   |   |--- class: Richard Miron\n",
            "|   |   |   |   |   |   |   |--- IMDBscore >  6.80\n",
            "|   |   |   |   |   |   |   |   |--- class: Monique Gardenberg\n",
            "|   |   |   |   |   |   |--- year >  2018.50\n",
            "|   |   |   |   |   |   |   |--- IMDBscore <= 6.85\n",
            "|   |   |   |   |   |   |   |   |--- class: Andrew Meier\n",
            "|   |   |   |   |   |   |   |--- IMDBscore >  6.85\n",
            "|   |   |   |   |   |   |   |   |--- class: Ryan Polito\n",
            "|--- IMDBscore >  6.95\n",
            "|   |--- IMDBscore <= 7.45\n",
            "|   |   |--- year <= 2015.50\n",
            "|   |   |   |--- year <= 2009.50\n",
            "|   |   |   |   |--- IMDBscore <= 7.25\n",
            "|   |   |   |   |   |--- IMDBscore <= 7.15\n",
            "|   |   |   |   |   |   |--- class: Banjong Pisanthanakun\n",
            "|   |   |   |   |   |--- IMDBscore >  7.15\n",
            "|   |   |   |   |   |   |--- year <= 2007.00\n",
            "|   |   |   |   |   |   |   |--- class: Onir\n",
            "|   |   |   |   |   |   |--- year >  2007.00\n",
            "|   |   |   |   |   |   |   |--- class: Adisorn Tresirikasem\n",
            "|   |   |   |   |--- IMDBscore >  7.25\n",
            "|   |   |   |   |   |--- year <= 2006.00\n",
            "|   |   |   |   |   |   |--- year <= 1993.50\n",
            "|   |   |   |   |   |   |   |--- class: Cheh Chang\n",
            "|   |   |   |   |   |   |--- year >  1993.50\n",
            "|   |   |   |   |   |   |   |--- class: Rian Johnson\n",
            "|   |   |   |   |   |--- year >  2006.00\n",
            "|   |   |   |   |   |   |--- year <= 2008.00\n",
            "|   |   |   |   |   |   |   |--- class: Priyadarshan\n",
            "|   |   |   |   |   |   |--- year >  2008.00\n",
            "|   |   |   |   |   |   |   |--- class: Nick Cassavetes\n",
            "|   |   |   |--- year >  2009.50\n",
            "|   |   |   |   |--- IMDBscore <= 7.05\n",
            "|   |   |   |   |   |--- class: Russell Crowe\n",
            "|   |   |   |   |--- IMDBscore >  7.05\n",
            "|   |   |   |   |   |--- IMDBscore <= 7.25\n",
            "|   |   |   |   |   |   |--- IMDBscore <= 7.15\n",
            "|   |   |   |   |   |   |   |--- year <= 2012.50\n",
            "|   |   |   |   |   |   |   |   |--- class: Nagesh Kukunoor\n",
            "|   |   |   |   |   |   |   |--- year >  2012.50\n",
            "|   |   |   |   |   |   |   |   |--- class: Morgan Neville\n",
            "|   |   |   |   |   |   |--- IMDBscore >  7.15\n",
            "|   |   |   |   |   |   |   |--- class: Parambrata Chatterjee\n",
            "|   |   |   |   |   |--- IMDBscore >  7.25\n",
            "|   |   |   |   |   |   |--- IMDBscore <= 7.35\n",
            "|   |   |   |   |   |   |   |--- class: Banjong Pisanthanakun\n",
            "|   |   |   |   |   |   |--- IMDBscore >  7.35\n",
            "|   |   |   |   |   |   |   |--- class: Morgan Neville\n",
            "|   |   |--- year >  2015.50\n",
            "|   |   |   |--- IMDBscore <= 7.15\n",
            "|   |   |   |   |--- year <= 2017.50\n",
            "|   |   |   |   |   |--- year <= 2016.50\n",
            "|   |   |   |   |   |   |--- class: Linda Saffire\n",
            "|   |   |   |   |   |--- year >  2016.50\n",
            "|   |   |   |   |   |   |--- IMDBscore <= 7.05\n",
            "|   |   |   |   |   |   |   |--- class: Chris Moukarbel\n",
            "|   |   |   |   |   |   |--- IMDBscore >  7.05\n",
            "|   |   |   |   |   |   |   |--- class: Atanu Ghosh\n",
            "|   |   |   |   |--- year >  2017.50\n",
            "|   |   |   |   |   |--- IMDBscore <= 7.05\n",
            "|   |   |   |   |   |   |--- year <= 2018.50\n",
            "|   |   |   |   |   |   |   |--- class: Kanwal Sethi\n",
            "|   |   |   |   |   |   |--- year >  2018.50\n",
            "|   |   |   |   |   |   |   |--- class: Patricia Font\n",
            "|   |   |   |   |   |--- IMDBscore >  7.05\n",
            "|   |   |   |   |   |   |--- class: Sandeep Reddy Vanga\n",
            "|   |   |   |--- IMDBscore >  7.15\n",
            "|   |   |   |   |--- IMDBscore <= 7.25\n",
            "|   |   |   |   |   |--- year <= 2017.50\n",
            "|   |   |   |   |   |   |--- year <= 2016.50\n",
            "|   |   |   |   |   |   |   |--- class: Richie Smyth\n",
            "|   |   |   |   |   |   |--- year >  2016.50\n",
            "|   |   |   |   |   |   |   |--- class: Angelina Jolie\n",
            "|   |   |   |   |   |--- year >  2017.50\n",
            "|   |   |   |   |   |   |--- class: Tamara Jenkins\n",
            "|   |   |   |   |--- IMDBscore >  7.25\n",
            "|   |   |   |   |   |--- year <= 2017.50\n",
            "|   |   |   |   |   |   |--- year <= 2016.50\n",
            "|   |   |   |   |   |   |   |--- class: Chun Wong\n",
            "|   |   |   |   |   |   |--- year >  2016.50\n",
            "|   |   |   |   |   |   |   |--- IMDBscore <= 7.35\n",
            "|   |   |   |   |   |   |   |   |--- class: Jatla Siddartha\n",
            "|   |   |   |   |   |   |   |--- IMDBscore >  7.35\n",
            "|   |   |   |   |   |   |   |   |--- class: Griffin Dunne\n",
            "|   |   |   |   |   |--- year >  2017.50\n",
            "|   |   |   |   |   |   |--- IMDBscore <= 7.35\n",
            "|   |   |   |   |   |   |   |--- year <= 2018.50\n",
            "|   |   |   |   |   |   |   |   |--- class: Ryan Coogler\n",
            "|   |   |   |   |   |   |   |--- year >  2018.50\n",
            "|   |   |   |   |   |   |   |   |--- class: Craig Brewer\n",
            "|   |   |   |   |   |   |--- IMDBscore >  7.35\n",
            "|   |   |   |   |   |   |   |--- class: Andibachtiar Yusuf\n",
            "|   |--- IMDBscore >  7.45\n",
            "|   |   |--- IMDBscore <= 7.65\n",
            "|   |   |   |--- year <= 2013.50\n",
            "|   |   |   |   |--- year <= 2006.00\n",
            "|   |   |   |   |   |--- year <= 2001.00\n",
            "|   |   |   |   |   |   |--- class: Mary Harron\n",
            "|   |   |   |   |   |--- year >  2001.00\n",
            "|   |   |   |   |   |   |--- IMDBscore <= 7.55\n",
            "|   |   |   |   |   |   |   |--- class: Toshiya Shinohara\n",
            "|   |   |   |   |   |   |--- IMDBscore >  7.55\n",
            "|   |   |   |   |   |   |   |--- class: Riri Riza\n",
            "|   |   |   |   |--- year >  2006.00\n",
            "|   |   |   |   |   |--- IMDBscore <= 7.55\n",
            "|   |   |   |   |   |   |--- year <= 2010.50\n",
            "|   |   |   |   |   |   |   |--- class: Edgar Wright\n",
            "|   |   |   |   |   |   |--- year >  2010.50\n",
            "|   |   |   |   |   |   |   |--- class: Chayanop Boonprakob\n",
            "|   |   |   |   |   |--- IMDBscore >  7.55\n",
            "|   |   |   |   |   |   |--- year <= 2010.00\n",
            "|   |   |   |   |   |   |   |--- class: Greg Mottola\n",
            "|   |   |   |   |   |   |--- year >  2010.00\n",
            "|   |   |   |   |   |   |   |--- class: Sunil Soraya\n",
            "|   |   |   |--- year >  2013.50\n",
            "|   |   |   |   |--- year <= 2015.50\n",
            "|   |   |   |   |   |--- year <= 2014.50\n",
            "|   |   |   |   |   |   |--- class: David Batty\n",
            "|   |   |   |   |   |--- year >  2014.50\n",
            "|   |   |   |   |   |   |--- class: Jerrold Tarog\n",
            "|   |   |   |   |--- year >  2015.50\n",
            "|   |   |   |   |   |--- year <= 2016.50\n",
            "|   |   |   |   |   |   |--- IMDBscore <= 7.55\n",
            "|   |   |   |   |   |   |   |--- class: Riri Riza\n",
            "|   |   |   |   |   |   |--- IMDBscore >  7.55\n",
            "|   |   |   |   |   |   |   |--- class: Park Joon-hwa\n",
            "|   |   |   |   |   |--- year >  2016.50\n",
            "|   |   |   |   |   |   |--- year <= 2017.50\n",
            "|   |   |   |   |   |   |   |--- IMDBscore <= 7.55\n",
            "|   |   |   |   |   |   |   |   |--- class: Chris Perkel\n",
            "|   |   |   |   |   |   |   |--- IMDBscore >  7.55\n",
            "|   |   |   |   |   |   |   |   |--- class: Partha Chakraborty\n",
            "|   |   |   |   |   |   |--- year >  2017.50\n",
            "|   |   |   |   |   |   |   |--- IMDBscore <= 7.55\n",
            "|   |   |   |   |   |   |   |   |--- class: Saravana Rajendran\n",
            "|   |   |   |   |   |   |   |--- IMDBscore >  7.55\n",
            "|   |   |   |   |   |   |   |   |--- year <= 2018.50\n",
            "|   |   |   |   |   |   |   |   |   |--- class: Alan Hicks\n",
            "|   |   |   |   |   |   |   |   |--- year >  2018.50\n",
            "|   |   |   |   |   |   |   |   |   |--- class: Randall Lobb\n",
            "|   |   |--- IMDBscore >  7.65\n",
            "|   |   |   |--- IMDBscore <= 7.75\n",
            "|   |   |   |   |--- year <= 2015.50\n",
            "|   |   |   |   |   |--- class: Mark Henn\n",
            "|   |   |   |   |--- year >  2015.50\n",
            "|   |   |   |   |   |--- class: Banjong Pisanthanakun\n",
            "|   |   |   |--- IMDBscore >  7.75\n",
            "|   |   |   |   |--- year <= 2013.50\n",
            "|   |   |   |   |   |--- year <= 2010.50\n",
            "|   |   |   |   |   |   |--- IMDBscore <= 8.15\n",
            "|   |   |   |   |   |   |   |--- year <= 1992.50\n",
            "|   |   |   |   |   |   |   |   |--- class: Ian MacNaughton\n",
            "|   |   |   |   |   |   |   |--- year >  1992.50\n",
            "|   |   |   |   |   |   |   |   |--- class: Clint Eastwood\n",
            "|   |   |   |   |   |   |--- IMDBscore >  8.15\n",
            "|   |   |   |   |   |   |   |--- class: Jacques Perrin\n",
            "|   |   |   |   |   |--- year >  2010.50\n",
            "|   |   |   |   |   |   |--- IMDBscore <= 8.00\n",
            "|   |   |   |   |   |   |   |--- class: Toshiyuki Kubooka\n",
            "|   |   |   |   |   |   |--- IMDBscore >  8.00\n",
            "|   |   |   |   |   |   |   |--- class: Manny Rodriguez\n",
            "|   |   |   |   |--- year >  2013.50\n",
            "|   |   |   |   |   |--- IMDBscore <= 8.15\n",
            "|   |   |   |   |   |   |--- IMDBscore <= 7.85\n",
            "|   |   |   |   |   |   |   |--- year <= 2016.00\n",
            "|   |   |   |   |   |   |   |   |--- class: Quentin Tarantino\n",
            "|   |   |   |   |   |   |   |--- year >  2016.00\n",
            "|   |   |   |   |   |   |   |   |--- class: Judah Friedlander\n",
            "|   |   |   |   |   |   |--- IMDBscore >  7.85\n",
            "|   |   |   |   |   |   |   |--- year <= 2016.00\n",
            "|   |   |   |   |   |   |   |   |--- class: Rajkumar Hirani\n",
            "|   |   |   |   |   |   |   |--- year >  2016.00\n",
            "|   |   |   |   |   |   |   |   |--- class: Tharun Bhascker\n",
            "|   |   |   |   |   |--- IMDBscore >  8.15\n",
            "|   |   |   |   |   |   |--- year <= 2018.50\n",
            "|   |   |   |   |   |   |   |--- year <= 2016.00\n",
            "|   |   |   |   |   |   |   |   |--- class: Keegan Kuhn\n",
            "|   |   |   |   |   |   |   |--- year >  2016.00\n",
            "|   |   |   |   |   |   |   |   |--- class: Peter Ho\n",
            "|   |   |   |   |   |   |--- year >  2018.50\n",
            "|   |   |   |   |   |   |   |--- IMDBscore <= 8.25\n",
            "|   |   |   |   |   |   |   |   |--- class: Anubhav Sinha\n",
            "|   |   |   |   |   |   |   |--- IMDBscore >  8.25\n",
            "|   |   |   |   |   |   |   |   |--- class: Huw Cordey\n",
            "\n"
          ],
          "name": "stdout"
        }
      ]
    },
    {
      "cell_type": "code",
      "metadata": {
        "colab": {
          "base_uri": "https://localhost:8080/"
        },
        "id": "CdnBY0POqcoP",
        "outputId": "bb34c567-c4ce-47fd-a66f-4643854f6182"
      },
      "source": [
        "cross_val_score(model, X_train, y_train, scoring=\"accuracy\")"
      ],
      "execution_count": null,
      "outputs": [
        {
          "output_type": "stream",
          "text": [
            "/usr/local/lib/python3.6/dist-packages/sklearn/model_selection/_split.py:667: UserWarning: The least populated class in y has only 1 members, which is less than n_splits=5.\n",
            "  % (min_groups, self.n_splits)), UserWarning)\n"
          ],
          "name": "stderr"
        },
        {
          "output_type": "execute_result",
          "data": {
            "text/plain": [
              "array([0.58984375, 0.63671875, 0.62890625, 0.6015625 , 0.58984375])"
            ]
          },
          "metadata": {
            "tags": []
          },
          "execution_count": 8
        }
      ]
    },
    {
      "cell_type": "code",
      "metadata": {
        "colab": {
          "base_uri": "https://localhost:8080/"
        },
        "id": "b4D_PV-Tqog3",
        "outputId": "9e07967d-61c2-4b7a-d146-225e04a957fe"
      },
      "source": [
        "print(\"Decision Tree Train Accuracy:\"+str(accuracy_score(y_train, model.predict(X_train))))"
      ],
      "execution_count": null,
      "outputs": [
        {
          "output_type": "stream",
          "text": [
            "Decision Tree Train Accuracy:0.63984375\n"
          ],
          "name": "stdout"
        }
      ]
    },
    {
      "cell_type": "code",
      "metadata": {
        "id": "b88Cb5W9JGG3",
        "colab": {
          "base_uri": "https://localhost:8080/"
        },
        "outputId": "ac80bbec-bf07-4506-c543-71eac7338dbb"
      },
      "source": [
        "dt_predictions = model.predict(X_test)\r\n",
        "accuracy_score(y_test, dt_predictions)"
      ],
      "execution_count": null,
      "outputs": [
        {
          "output_type": "execute_result",
          "data": {
            "text/plain": [
              "0.48125"
            ]
          },
          "metadata": {
            "tags": []
          },
          "execution_count": 10
        }
      ]
    },
    {
      "cell_type": "markdown",
      "metadata": {
        "id": "pZIlogZd0eCw"
      },
      "source": [
        "<h4>\r\n",
        "Here is the second implemention of machine learning model of Random Forest.\r\n",
        "</h4>"
      ]
    },
    {
      "cell_type": "code",
      "metadata": {
        "colab": {
          "base_uri": "https://localhost:8080/"
        },
        "id": "Ny7c5gn3IsGD",
        "outputId": "c69371b3-975b-4806-991a-feefe92b72f8"
      },
      "source": [
        "model_rf = RandomForestClassifier(random_state=1, n_estimators=100)\r\n",
        "model_rf.fit(X_train, y_train) \r\n",
        "cross_val_score(model_rf, X_train, y_train, scoring=\"accuracy\")"
      ],
      "execution_count": null,
      "outputs": [
        {
          "output_type": "stream",
          "text": [
            "/usr/local/lib/python3.6/dist-packages/sklearn/model_selection/_split.py:667: UserWarning: The least populated class in y has only 1 members, which is less than n_splits=5.\n",
            "  % (min_groups, self.n_splits)), UserWarning)\n"
          ],
          "name": "stderr"
        },
        {
          "output_type": "execute_result",
          "data": {
            "text/plain": [
              "array([0.59375   , 0.640625  , 0.62890625, 0.61328125, 0.58984375])"
            ]
          },
          "metadata": {
            "tags": []
          },
          "execution_count": 11
        }
      ]
    },
    {
      "cell_type": "code",
      "metadata": {
        "colab": {
          "base_uri": "https://localhost:8080/"
        },
        "id": "HCbT93whWFgF",
        "outputId": "5fafdedb-e135-4700-ec41-bf16accf5ef1"
      },
      "source": [
        "cross_val_score(model_rf, X_train, y_train, scoring=\"accuracy\")"
      ],
      "execution_count": null,
      "outputs": [
        {
          "output_type": "stream",
          "text": [
            "/usr/local/lib/python3.6/dist-packages/sklearn/model_selection/_split.py:667: UserWarning: The least populated class in y has only 1 members, which is less than n_splits=5.\n",
            "  % (min_groups, self.n_splits)), UserWarning)\n"
          ],
          "name": "stderr"
        },
        {
          "output_type": "execute_result",
          "data": {
            "text/plain": [
              "array([0.59375   , 0.640625  , 0.62890625, 0.61328125, 0.58984375])"
            ]
          },
          "metadata": {
            "tags": []
          },
          "execution_count": 12
        }
      ]
    },
    {
      "cell_type": "code",
      "metadata": {
        "colab": {
          "base_uri": "https://localhost:8080/"
        },
        "id": "adAJCIoXWRr_",
        "outputId": "9907a934-87be-421f-fcdb-556586779b8c"
      },
      "source": [
        "rf_predictions = model_rf.predict(X_test)\r\n",
        "rf_acc = accuracy_score(y_test, rf_predictions)\r\n",
        "print(\"Random Forest Train Accuracy:\"+str(accuracy_score(y_train, model_rf.predict(X_train))))\r\n",
        "print(\"Random Forest Test Accuracy:\"+str(rf_acc))"
      ],
      "execution_count": null,
      "outputs": [
        {
          "output_type": "stream",
          "text": [
            "Random Forest Train Accuracy:0.63984375\n",
            "Random Forest Test Accuracy:0.48125\n"
          ],
          "name": "stdout"
        }
      ]
    },
    {
      "cell_type": "code",
      "metadata": {
        "colab": {
          "base_uri": "https://localhost:8080/"
        },
        "id": "-Kh2NCpL7b20",
        "outputId": "75bcdbb6-76f2-47c0-d90b-7fc27904c55c"
      },
      "source": [
        "from sklearn.model_selection import GridSearchCV \r\n",
        "param_grid = { \r\n",
        "    'random_state': [32, 61],\r\n",
        "    'n_estimators': [50, 75],\r\n",
        "    'min_samples_split': [2, 4],\r\n",
        "    'max_depth': [16, 32]\r\n",
        "}\r\n",
        "\r\n",
        "rf_predictions = RandomForestClassifier()\r\n",
        "\r\n",
        "rf_grid = GridSearchCV(estimator=rf_predictions, param_grid=param_grid)\r\n",
        "rf_grid.fit(X_train, y_train)"
      ],
      "execution_count": null,
      "outputs": [
        {
          "output_type": "stream",
          "text": [
            "/usr/local/lib/python3.6/dist-packages/sklearn/model_selection/_split.py:667: UserWarning: The least populated class in y has only 1 members, which is less than n_splits=5.\n",
            "  % (min_groups, self.n_splits)), UserWarning)\n"
          ],
          "name": "stderr"
        },
        {
          "output_type": "execute_result",
          "data": {
            "text/plain": [
              "GridSearchCV(cv=None, error_score=nan,\n",
              "             estimator=RandomForestClassifier(bootstrap=True, ccp_alpha=0.0,\n",
              "                                              class_weight=None,\n",
              "                                              criterion='gini', max_depth=None,\n",
              "                                              max_features='auto',\n",
              "                                              max_leaf_nodes=None,\n",
              "                                              max_samples=None,\n",
              "                                              min_impurity_decrease=0.0,\n",
              "                                              min_impurity_split=None,\n",
              "                                              min_samples_leaf=1,\n",
              "                                              min_samples_split=2,\n",
              "                                              min_weight_fraction_leaf=0.0,\n",
              "                                              n_estimators=100, n_jobs=None,\n",
              "                                              oob_score=False,\n",
              "                                              random_state=None, verbose=0,\n",
              "                                              warm_start=False),\n",
              "             iid='deprecated', n_jobs=None,\n",
              "             param_grid={'max_depth': [16, 32], 'min_samples_split': [2, 4],\n",
              "                         'n_estimators': [50, 75], 'random_state': [32, 61]},\n",
              "             pre_dispatch='2*n_jobs', refit=True, return_train_score=False,\n",
              "             scoring=None, verbose=0)"
            ]
          },
          "metadata": {
            "tags": []
          },
          "execution_count": 14
        }
      ]
    },
    {
      "cell_type": "code",
      "metadata": {
        "colab": {
          "base_uri": "https://localhost:8080/"
        },
        "id": "IIlE6Q4Z7do6",
        "outputId": "e901c02c-cdc6-46e0-f504-2b13fb206a47"
      },
      "source": [
        "rf_grid.best_params_ "
      ],
      "execution_count": null,
      "outputs": [
        {
          "output_type": "execute_result",
          "data": {
            "text/plain": [
              "{'max_depth': 16,\n",
              " 'min_samples_split': 2,\n",
              " 'n_estimators': 75,\n",
              " 'random_state': 61}"
            ]
          },
          "metadata": {
            "tags": []
          },
          "execution_count": 15
        }
      ]
    },
    {
      "cell_type": "code",
      "metadata": {
        "colab": {
          "base_uri": "https://localhost:8080/"
        },
        "id": "o2XZff8v7fVy",
        "outputId": "cf58fc62-2929-449a-c987-82c639e7bdb2"
      },
      "source": [
        "grid_predictions = rf_grid.predict(X_val)\r\n",
        "accuracy_score(y_val, grid_predictions)"
      ],
      "execution_count": null,
      "outputs": [
        {
          "output_type": "execute_result",
          "data": {
            "text/plain": [
              "0.59375"
            ]
          },
          "metadata": {
            "tags": []
          },
          "execution_count": 16
        }
      ]
    },
    {
      "cell_type": "markdown",
      "metadata": {
        "id": "l4MtFOqW4jdQ"
      },
      "source": [
        "### Results & Discussion\n",
        "\n",
        "<p>\n",
        "The first use of the machine learning model in our project is the Decision Tree. The implementation of that model is currently working slowly due to the usage of nested loops with pandas dataframe. It takes 1-3 minutes to execute it. We tried different approaches on our problem and came up with different implementations. For decision tree model we have found the successful directors based on IMDB ratings filtered by the release years of the projects. Before processing the model, actor and title names have been removed from the data, then the model gets the IMDB score and release year. Branches have been created according to those values. Then, x data gets the panda dataframe without directors and y gets the panda dataframe with directors. As a result of the model, tree shows the director according to the release year and the IMDB scores.\n",
        "\n",
        "\n",
        "The second usage of the machine learning demonstrates the best parameters as max_depth being 16, min_samples_split as 2, n_estimators as 75 and random_state as 61. Fundamental motivation under finding the best parameters is to increase the accuracy level, which had an increase from %48,12 to %59,37 with those in use.\n",
        "\n",
        "In the training process, director-actor variables have been paired at first, then it resulted as a failure because there have been lot's of unique pairs appeared which makes the accuracy hard to find. Then, it has been decided to continue with only director.\n",
        "\n",
        "\n",
        "Finally it shows the most successful directors according to their projects' IMDB scores and release years.  We also keep the other codes which we do not use in this implementation, to show our trials.\n",
        "</p>"
      ]
    },
    {
      "cell_type": "markdown",
      "metadata": {
        "id": "L8mRHzGc4SH0"
      },
      "source": [
        "## Conclusion\n",
        "The main goal of the project is to specify the main experiences of the directors given to be a guide for the potential investors in the film industry. \n",
        "\n",
        "To expand the data and be able to create more valid outcomes, IMDB ratings for the shows are used. One of the problems that occured in that process is that if the TV show/Movie is added to Netflix in another year than the release year, the API was unable to find the show and filler the rating as “NaN”. Also, if a TV Show/ Film is found in IMBD database but no IMDB score is found, them the IMDB rating is filled with “N/A”.\n",
        "\n",
        "Another problem in the data set is that the lack of numeric data. For a more valid Machine Learning implementation, more numeric variables are needed. In order to have a valid data, IMDB ratings are added. Also in the future, the directors can be matched with a number which represents them so that they can be used in the ML process."
      ]
    },
    {
      "cell_type": "markdown",
      "metadata": {
        "id": "8h0G5RNzuABB"
      },
      "source": [
        "## Further Interests\n"
      ]
    },
    {
      "cell_type": "markdown",
      "metadata": {
        "id": "jIUrsoNaqnpI"
      },
      "source": [
        "The main goal of this project is to make the potentials of the projects more visible for a potential online streaming investor in the film industry and help them decide with more valid reasons. The end goal of this project to create a tool in which a potential investor can input a director name and get an output with the benefits of that option.\r\n",
        "\r\n",
        "Machine Learning methods are being used in order to create an input output system which has a fixed level of experience to refer. Since the data contains lots of strings, Machine Learning methods are limited for us to use. Some data are hard to integrate with the Machine Learning process. In order to solve that problem, it can be improved by converting the strings into unique numeric vairables. \r\n",
        "\r\n",
        "Also new Machine Learning methods can be considered untill it can give the intended outputs from the algorithm itself.\r\n",
        "\r\n",
        "Experimented methods are lacking to specify the correlation between the director and actor and are not enough to create the expected outputs. String based Machine Learning methods will be considered in the following times and for the final work."
      ]
    },
    {
      "cell_type": "markdown",
      "metadata": {
        "id": "aw-zON5bt0pd"
      },
      "source": [
        "## Work Division\n"
      ]
    },
    {
      "cell_type": "markdown",
      "metadata": {
        "id": "71ossJc3GiFU"
      },
      "source": [
        "\r\n",
        "The task has been divided into 5 parts among teammates as the Data Visualisation process, Machine Learning, collecting the IMDB Data, Data Processing and the final transcription of the work done. \r\n",
        "\r\n",
        "Suzan and Zeynep have worked on the data processing such as plotting the data and getting a clear visualisation and correlation between variables in detail.\r\n",
        "\r\n",
        "Baran have worked on getting the IMDB data via web scraping and added it on the main excel data in a way which the mentioned data can be used in the following process.\r\n",
        "\r\n",
        "Baran, Goktug and Alpaslan have worked on the Machine Learning process in detail and done the implementations of the methods that has been decided to work within the algorithm.\r\n",
        "\r\n",
        "Then, all the work done was transcripted and reported in detail.\r\n"
      ]
    }
  ]
}